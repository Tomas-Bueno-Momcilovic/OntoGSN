{
 "cells": [
  {
   "cell_type": "markdown",
   "id": "de1dbb9c",
   "metadata": {},
   "source": [
    "# KETTLE → OntoGSN (pruned export)\n",
    "\n",
    "This version improves on the previous notebook:\n",
    "\n",
    "1. **Minimal TBox** – only classes/properties actually *used* in the population are kept in the output TTL; all other axioms from `ontogsn.owl` and `asce_ontogsn_mappings.ttl` are discarded.\n",
    "2. **Dual typing** – every individual is explicitly typed as **`asce:Node`** *and* its corresponding `gsn:Class`.\n",
    "3. **No duplicate class assertions** – each `(instance rdf:type gsn:Class)` is asserted once.\n",
    "\n",
    "Run all cells and you’ll get a compact `kettle_populated.ttl`.\n"
   ]
  },
  {
   "cell_type": "code",
   "execution_count": null,
   "id": "bf0c6c77",
   "metadata": {},
   "outputs": [],
   "source": [
    "# If necessary, install rdflib\n",
    "# !pip install rdflib"
   ]
  },
  {
   "cell_type": "code",
   "execution_count": null,
   "id": "daa9cede",
   "metadata": {},
   "outputs": [],
   "source": [
    "from pathlib import Path\n",
    "import xml.etree.ElementTree as ET\n",
    "from collections import defaultdict\n",
    "import rdflib\n",
    "from rdflib import Graph, Namespace, URIRef, Literal, RDF, RDFS, OWL"
   ]
  },
  {
   "cell_type": "markdown",
   "id": "693acbff",
   "metadata": {},
   "source": [
    "## 1 – File paths"
   ]
  },
  {
   "cell_type": "code",
   "execution_count": null,
   "id": "ac0defde",
   "metadata": {},
   "outputs": [],
   "source": [
    "AXML_FILE   = Path('KETTLE.axml') # your ASCE filepath here\n",
    "MAPPING_TTL = Path('asce_mappings.ttl')\n",
    "ONTOGSN_OWL = Path('../ontogsn.owl')          # optional (only for pruning metadata)\n",
    "OUTPUT_TTL  = Path('kettle_populated.ttl')\n",
    "\n",
    "assert AXML_FILE.exists() and MAPPING_TTL.exists(), 'Put the input files next to this notebook'"
   ]
  },
  {
   "cell_type": "markdown",
   "id": "122981e5",
   "metadata": {},
   "source": [
    "## 2 – Namespaces and lookup tables"
   ]
  },
  {
   "cell_type": "code",
   "execution_count": null,
   "id": "fa36cc58",
   "metadata": {},
   "outputs": [],
   "source": [
    "EX      = Namespace('http://example.org/kettle/')       # individuals\n",
    "ASCE    = Namespace('https://fortiss.github.io/OntoGSN/ontology/ascemappings#')\n",
    "GSN     = Namespace('https://w3id.org/ontogsn/ontology#')\n",
    "\n",
    "# Mapping: numeric code ➜ (ASCE class, GSN class)\n",
    "NODE_TYPE_MAP = {\n",
    "    '1': (ASCE.Node,        GSN.Goal),\n",
    "    '2': (ASCE.Node,    GSN.Solution),\n",
    "    '3': (ASCE.Node,    GSN.Strategy),\n",
    "    '4': (ASCE.Node,  GSN.Assumption),\n",
    "    '5': (ASCE.Node, GSN.Justification),\n",
    "    '6': (ASCE.Node,     GSN.Context),\n",
    "    '7': (ASCE.Node,       GSN.Model),\n",
    "    '8': (ASCE.Node,        GSN.Note),\n",
    "    '9': (ASCE.Node,      GSN.Option),\n",
    "    '10': (ASCE.Node,    GSN.Caption),\n",
    "}\n",
    "\n",
    "LINK_TYPE_MAP = {\n",
    "    '1': (ASCE.Link,  GSN.supportedBy),\n",
    "    '2': (ASCE.Link,  GSN.inContextOf),\n",
    "}"
   ]
  },
  {
   "cell_type": "markdown",
   "id": "67f0fbba",
   "metadata": {},
   "source": [
    "## 3 – Build the individuals graph"
   ]
  },
  {
   "cell_type": "code",
   "execution_count": null,
   "id": "82ddee15",
   "metadata": {},
   "outputs": [],
   "source": [
    "def inst(ref: str) -> URIRef:\n",
    "    return EX[f'node_{ref}']\n",
    "\n",
    "g_ind = Graph()\n",
    "g_ind.bind('ex',  EX)\n",
    "g_ind.bind('asce', ASCE)\n",
    "g_ind.bind('gsn',  GSN)\n",
    "\n",
    "tree = ET.parse(AXML_FILE)\n",
    "root = tree.getroot()\n",
    "\n",
    "ASCE_NODE_CLASS = ASCE.Node\n",
    "\n",
    "# ---- Nodes ---------------------------------------------------------------\n",
    "for node in root.findall('.//node'):\n",
    "    ref = node.get('reference')\n",
    "    if not ref:\n",
    "        continue\n",
    "    i = inst(ref)\n",
    "    type_code = (node.findtext('type') or '').strip()\n",
    "    asce_cls, gsn_cls = NODE_TYPE_MAP.get(type_code, (None, None))\n",
    "\n",
    "    # dual typing\n",
    "    g_ind.add((i, RDF.type, ASCE_NODE_CLASS))\n",
    "    if asce_cls:\n",
    "        g_ind.add((i, RDF.type, asce_cls))\n",
    "    if gsn_cls:\n",
    "        g_ind.add((i, RDF.type, gsn_cls))\n",
    "\n",
    "    # rdfs:label / rdfs:comment\n",
    "    title = node.findtext('user-title')\n",
    "    if title:\n",
    "        g_ind.add((i, RDFS.label, Literal(title)))\n",
    "    desc = node.findtext('html-annotation')\n",
    "    if desc:\n",
    "        g_ind.add((i, RDFS.comment, Literal(desc)))\n",
    "\n",
    "# ---- Links ---------------------------------------------------------------\n",
    "for link in root.findall('.//link'):\n",
    "    tcode = (link.findtext('type') or '').strip()\n",
    "    asce_p, gsn_p = LINK_TYPE_MAP.get(tcode, (None, None))\n",
    "\n",
    "    s_ref = (link.findtext('source-reference') or '').strip()\n",
    "    o_ref = (link.findtext('destination-reference') or '').strip()\n",
    "    if not s_ref or not o_ref:\n",
    "        continue\n",
    "\n",
    "    s = inst(s_ref)\n",
    "    o = inst(o_ref)\n",
    "\n",
    "    if asce_p:\n",
    "        g_ind.add((s, asce_p, o))\n",
    "    if gsn_p:\n",
    "        g_ind.add((s, gsn_p, o))\n",
    "\n",
    "print(f'Instance graph: {len(g_ind):,} triples')"
   ]
  },
  {
   "cell_type": "markdown",
   "id": "e160cbd6",
   "metadata": {},
   "source": [
    "## 4 – Determine which TBox terms are *used*"
   ]
  },
  {
   "cell_type": "code",
   "execution_count": null,
   "id": "6722cb98",
   "metadata": {},
   "outputs": [],
   "source": [
    "used_terms = set()\n",
    "\n",
    "for s, p, o in g_ind:\n",
    "    if isinstance(s, URIRef):\n",
    "        used_terms.add(s)\n",
    "    if isinstance(p, URIRef):\n",
    "        used_terms.add(p)\n",
    "    if isinstance(o, URIRef):\n",
    "        used_terms.add(o)\n",
    "\n",
    "print(f'Unique used URI resources (classes, properties, individuals): {len(used_terms)}')"
   ]
  },
  {
   "cell_type": "markdown",
   "id": "5ccf510b",
   "metadata": {},
   "source": [
    "## 5 – Load ontologies, keep only axioms involving used terms"
   ]
  },
  {
   "cell_type": "code",
   "execution_count": null,
   "id": "18a538c5",
   "metadata": {},
   "outputs": [],
   "source": [
    "g_tbox = Graph()\n",
    "\n",
    "def add_relevant(src_graph: Graph):\n",
    "    \"\"\"Copy only triples where any of S, P, O is in `used_terms`.\"\"\"\n",
    "    for s, p, o in src_graph:\n",
    "        if s in used_terms or p in used_terms or o in used_terms:\n",
    "            g_tbox.add((s, p, o))\n",
    "\n",
    "# --- Mapping ontology ------------------------------------------------------\n",
    "mapping_graph = Graph()\n",
    "mapping_graph.parse(MAPPING_TTL, format='turtle')\n",
    "add_relevant(mapping_graph)\n",
    "\n",
    "# --- OntoGSN ontology ------------------------------------------------------\n",
    "if ONTOGSN_OWL.exists():\n",
    "    try:\n",
    "        onto_graph = Graph()\n",
    "        onto_graph.parse(ONTOGSN_OWL)   # auto-detects RDF/XML\n",
    "        add_relevant(onto_graph)\n",
    "    except Exception as e:\n",
    "        print('Could not parse ontogsn.owl – skipped pruning from it:', e)\n",
    "\n",
    "print(f'TBox after pruning: {len(g_tbox):,} triples')"
   ]
  },
  {
   "cell_type": "markdown",
   "id": "09cfda1f",
   "metadata": {},
   "source": [
    "## 6 – Merge and serialise"
   ]
  },
  {
   "cell_type": "code",
   "execution_count": null,
   "id": "bf152208",
   "metadata": {},
   "outputs": [],
   "source": [
    "g_final = g_ind + g_tbox   # rdflib allows graph addition (union)\n",
    "\n",
    "g_final.serialize(destination=OUTPUT_TTL, format='turtle')\n",
    "print('Saved compact graph to', OUTPUT_TTL.resolve())"
   ]
  },
  {
   "cell_type": "markdown",
   "id": "f9b3fe3a",
   "metadata": {},
   "source": [
    "---\n",
    "\n",
    "### Result\n",
    "\n",
    "* **Individuals** are of *three* types each:  \n",
    "  * `asce:Node` (generic)  \n",
    "  * their specific `asce:` class (e.g. `asce:Goal`)  \n",
    "  * the mapped `gsn:` class (e.g. `gsn:Goal`)\n",
    "* Only classes/properties that appear in the instance data are kept, along with any\n",
    "  mapping axioms directly connecting them.\n",
    "\n",
    "Feel free to inspect `kettle_populated.ttl` in an RDF editor or run SPARQL queries in‑notebook.\n"
   ]
  }
 ],
 "metadata": {
  "kernelspec": {
   "display_name": "base",
   "language": "python",
   "name": "python3"
  },
  "language_info": {
   "codemirror_mode": {
    "name": "ipython",
    "version": 3
   },
   "file_extension": ".py",
   "mimetype": "text/x-python",
   "name": "python",
   "nbconvert_exporter": "python",
   "pygments_lexer": "ipython3",
   "version": "3.11.5"
  }
 },
 "nbformat": 4,
 "nbformat_minor": 5
}
