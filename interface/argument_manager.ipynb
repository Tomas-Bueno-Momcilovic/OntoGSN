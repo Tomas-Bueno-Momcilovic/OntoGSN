{
 "cells": [
  {
   "cell_type": "markdown",
   "id": "8a295a0e",
   "metadata": {},
   "source": [
    "# Argument Manager\n",
    "This notebook allows you to add your nodes manually in each block of this Jupyter notebook, and connect them to any data or processes you have."
   ]
  },
  {
   "cell_type": "markdown",
   "id": "f191ca19",
   "metadata": {},
   "source": [
    "## Execution block\n",
    "This block sets up a temporary graph, and adds the nodes from the data blocks to the graph for user-friendly querying. Once you are happy with the nodes and information below, run this block."
   ]
  },
  {
   "cell_type": "code",
   "execution_count": 1,
   "id": "ee8bcbb7",
   "metadata": {},
   "outputs": [
    {
     "name": "stdout",
     "output_type": "stream",
     "text": [
      "Added Goal 'G1: Some top goal'\n",
      "Added Goal 'G1.2: Some subgoal'\n",
      "Added Solution 'Sn1.2: Some code'\n",
      "Added Context 'C1: Some context'\n"
     ]
    }
   ],
   "source": [
    "from functions.utils import setup_graph, parse_and_add\n",
    "\n",
    "g = setup_graph()\n",
    "parse_and_add(graph = g)"
   ]
  },
  {
   "cell_type": "markdown",
   "id": "ec8bd4c1",
   "metadata": {},
   "source": [
    "## Data blocks\n",
    "The following blocks act as \"forms\" in which you can add information about your nodes. Each block is a separate node; to define new nodes, you only need to create a new block.  "
   ]
  },
  {
   "cell_type": "code",
   "execution_count": null,
   "id": "0582f9fb",
   "metadata": {},
   "outputs": [],
   "source": [
    "# Node label and statement: \"G1: Some top goal\"\n",
    "# Node type: \"Goal\"\n",
    "# Parent node: \n",
    "# Content:\n",
    "\"Some text about a top goal\""
   ]
  },
  {
   "cell_type": "code",
   "execution_count": null,
   "id": "d7057df9",
   "metadata": {},
   "outputs": [],
   "source": [
    "# Node label and statement: \"G1.2: Some subgoal\"\n",
    "# Node type: \"Goal\"\n",
    "# Parent node: \"G1\"\n",
    "# Content:\n",
    "\"Some text about a subgoal\""
   ]
  },
  {
   "cell_type": "code",
   "execution_count": null,
   "id": "1cf666ef",
   "metadata": {},
   "outputs": [],
   "source": [
    "\n",
    "# Node label and statement: \"Sn1.2: Some code\"\n",
    "# Node type: \"Solution\"\n",
    "# Parent node: \"G1.2\"\n",
    "# Content:\n",
    "\"some actual Python code here\""
   ]
  },
  {
   "cell_type": "code",
   "execution_count": null,
   "id": "2e945847",
   "metadata": {},
   "outputs": [],
   "source": [
    "#### Block 5 ####\n",
    "# Node label and statement: \"C1: Some context\"\n",
    "# Node type: \"Context\"\n",
    "# Parent node: \"G1\"\n",
    "# Content:\n",
    "\"Something about some context here\""
   ]
  }
 ],
 "metadata": {
  "kernelspec": {
   "display_name": "Python 3",
   "language": "python",
   "name": "python3"
  },
  "language_info": {
   "codemirror_mode": {
    "name": "ipython",
    "version": 3
   },
   "file_extension": ".py",
   "mimetype": "text/x-python",
   "name": "python",
   "nbconvert_exporter": "python",
   "pygments_lexer": "ipython3",
   "version": "3.12.2"
  }
 },
 "nbformat": 4,
 "nbformat_minor": 5
}
