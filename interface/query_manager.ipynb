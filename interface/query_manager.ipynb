{
 "cells": [
  {
   "cell_type": "markdown",
   "id": "850290a0",
   "metadata": {},
   "source": [
    "#### Example 1: Direct addition of elements to the assurance case"
   ]
  },
  {
   "cell_type": "code",
   "execution_count": null,
   "id": "f8ca6863",
   "metadata": {},
   "outputs": [],
   "source": [
    "import os\n",
    "import hashlib\n",
    "from functions.utils import setup_graph, load_query\n",
    "g = setup_graph()"
   ]
  },
  {
   "cell_type": "code",
   "execution_count": 2,
   "id": "1ad8ff42",
   "metadata": {},
   "outputs": [],
   "source": [
    "data_filepath = \"some/file/path.xlsx\"\n",
    "goal_id = \"some_identifier_of_goal\""
   ]
  },
  {
   "cell_type": "code",
   "execution_count": null,
   "id": "bf5c06c3",
   "metadata": {},
   "outputs": [],
   "source": [
    "sha1 = hashlib.sha1(data_filepath.encode(\"utf-8\")).hexdigest()\n",
    "\n",
    "evidence_local = f\"Solution{sha1}\"\n",
    "datafile_local = os.path.basename(data_filepath)\n",
    "\n",
    "replacements = {\n",
    "    \"EvidencePlaceholder\": evidence_local,\n",
    "    \"DataFilePlaceholder\": datafile_local,\n",
    "    \"DataFilepathPlaceholder\": data_filepath,\n",
    "    \"GoalPlaceholder\": goal_id\n",
    "}"
   ]
  },
  {
   "cell_type": "code",
   "execution_count": null,
   "id": "8df08828",
   "metadata": {},
   "outputs": [],
   "source": [
    "query = load_query()"
   ]
  },
  {
   "cell_type": "code",
   "execution_count": null,
   "id": "d35a0c8c",
   "metadata": {},
   "outputs": [
    {
     "name": "stdout",
     "output_type": "stream",
     "text": [
      "✅ Added evidence case:Evidence777d3e1b24da092405ffcb09a4daca9037c89823 → path.xlsx for goal 'some_identifier_of_goal'\n"
     ]
    }
   ],
   "source": [
    "g.update(query)\n",
    "print(f\"✅ Added solution:{evidence_local} → {datafile_local} for goal {goal_id!r}\")"
   ]
  },
  {
   "cell_type": "code",
   "execution_count": null,
   "id": "46dc1c57",
   "metadata": {},
   "outputs": [],
   "source": [
    "# Example 3: Multiple elements in one Jupyter code block"
   ]
  }
 ],
 "metadata": {
  "kernelspec": {
   "display_name": "Python 3",
   "language": "python",
   "name": "python3"
  },
  "language_info": {
   "codemirror_mode": {
    "name": "ipython",
    "version": 3
   },
   "file_extension": ".py",
   "mimetype": "text/x-python",
   "name": "python",
   "nbconvert_exporter": "python",
   "pygments_lexer": "ipython3",
   "version": "3.12.2"
  }
 },
 "nbformat": 4,
 "nbformat_minor": 5
}
